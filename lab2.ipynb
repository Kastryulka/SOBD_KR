{
 "cells": [
  {
   "cell_type": "markdown",
   "metadata": {},
   "source": [
    "<h2 style=\"text-align:center;font-size:200%;;\">Лаб 2</h2>"
   ]
  },
  {
   "cell_type": "markdown",
   "metadata": {
    "tags": []
   },
   "source": [
    "# **1. Подготовка данных** <a class=\"anchor\" id=\"1\"></a>\n",
    "\n",
    "Импорты.\n"
   ]
  },
  {
   "cell_type": "code",
   "execution_count": 84,
   "metadata": {
    "tags": []
   },
   "outputs": [],
   "source": [
    "import numpy as np # linear algebra\n",
    "import pandas as pd # data processing, CSV file I/O (e.g. pd.read_csv)\n",
    "import os\n",
    "\n",
    "from pyspark.sql.types import *\n",
    "from pyspark.sql.functions import *\n",
    "from pyspark.sql import SparkSession\n",
    "\n",
    "from pyspark.ml import Pipeline\n",
    "from pyspark.ml.feature import VectorAssembler, StringIndexer, VectorIndexer, MinMaxScaler\n",
    "from pyspark.ml.regression import LinearRegression\n",
    "from pyspark.ml.classification import RandomForestClassifier\n",
    "from pyspark.ml.tuning import ParamGridBuilder, CrossValidator\n",
    "from pyspark.ml.evaluation import BinaryClassificationEvaluator, RegressionEvaluator\n",
    "\n",
    "spark = SparkSession.builder.master(\"local[*]\").getOrCreate()"
   ]
  },
  {
   "cell_type": "code",
   "execution_count": 85,
   "metadata": {
    "tags": []
   },
   "outputs": [
    {
     "name": "stdout",
     "output_type": "stream",
     "text": [
      "+-------------------+-------------------+------------------+-------------------+------------------+----------+\n",
      "|      energy_median|        energy_mean|        energy_max|         energy_std|        energy_sum|energy_min|\n",
      "+-------------------+-------------------+------------------+-------------------+------------------+----------+\n",
      "|             0.1415|0.29616666875000003|         1.1160001| 0.2814713178628203|14.216000100000002|     0.031|\n",
      "|             0.1015|          0.1898125|             0.685| 0.1884046862418033|             9.111|     0.064|\n",
      "|              0.114| 0.2189791666666666|0.6759999999999999|0.20291927853038208|10.510999999999996|     0.065|\n",
      "|              0.191|0.32597916666666665|0.7879999999999999| 0.2592049619947409|15.646999999999998|     0.066|\n",
      "|0.21800000000000005|             0.3575|             1.077|0.28759657027517305|             17.16|     0.066|\n",
      "|             0.1305| 0.2350833333333333|             0.705| 0.2220696491599295|            11.284|     0.066|\n",
      "|0.08900000000000001|0.22135416666666666|             1.094|0.26723887549908265|            10.625|     0.062|\n",
      "|0.16049999999999998|           0.291125|0.7490000000000001|0.24907604794434665|13.973999999999998|     0.065|\n",
      "|              0.107|0.16899999999999998|             0.613|0.15068466931050878|             7.943|     0.065|\n",
      "|             0.2175|0.33918750000000003|             0.866|0.26310119857478675|16.281000000000002|     0.069|\n",
      "+-------------------+-------------------+------------------+-------------------+------------------+----------+\n",
      "only showing top 10 rows\n",
      "\n"
     ]
    }
   ],
   "source": [
    "csv = spark.read.csv('data/archive/clear_daily_dataset.csv', inferSchema=True, header=True)\n",
    "csv.show(10)"
   ]
  },
  {
   "cell_type": "code",
   "execution_count": 86,
   "metadata": {
    "tags": []
   },
   "outputs": [
    {
     "name": "stdout",
     "output_type": "stream",
     "text": [
      "Data frame describe:\n"
     ]
    },
    {
     "data": {
      "text/html": [
       "<div>\n",
       "<style scoped>\n",
       "    .dataframe tbody tr th:only-of-type {\n",
       "        vertical-align: middle;\n",
       "    }\n",
       "\n",
       "    .dataframe tbody tr th {\n",
       "        vertical-align: top;\n",
       "    }\n",
       "\n",
       "    .dataframe thead th {\n",
       "        text-align: right;\n",
       "    }\n",
       "</style>\n",
       "<table border=\"1\" class=\"dataframe\">\n",
       "  <thead>\n",
       "    <tr style=\"text-align: right;\">\n",
       "      <th></th>\n",
       "      <th>summary</th>\n",
       "      <th>energy_median</th>\n",
       "      <th>energy_mean</th>\n",
       "      <th>energy_max</th>\n",
       "      <th>energy_std</th>\n",
       "      <th>energy_sum</th>\n",
       "      <th>energy_min</th>\n",
       "    </tr>\n",
       "  </thead>\n",
       "  <tbody>\n",
       "    <tr>\n",
       "      <th>0</th>\n",
       "      <td>count</td>\n",
       "      <td>3079165</td>\n",
       "      <td>3079165</td>\n",
       "      <td>3079165</td>\n",
       "      <td>3079165</td>\n",
       "      <td>3079165</td>\n",
       "      <td>3079165</td>\n",
       "    </tr>\n",
       "    <tr>\n",
       "      <th>1</th>\n",
       "      <td>mean</td>\n",
       "      <td>0.11880588795988369</td>\n",
       "      <td>0.16319008790823802</td>\n",
       "      <td>0.6950190911996289</td>\n",
       "      <td>0.14029959826336136</td>\n",
       "      <td>7.825446524206482</td>\n",
       "      <td>0.04289147609823376</td>\n",
       "    </tr>\n",
       "    <tr>\n",
       "      <th>2</th>\n",
       "      <td>stddev</td>\n",
       "      <td>0.07454287476367244</td>\n",
       "      <td>0.09432452196334815</td>\n",
       "      <td>0.4651897588350241</td>\n",
       "      <td>0.09785646281908876</td>\n",
       "      <td>4.52540514635374</td>\n",
       "      <td>0.03218939807855031</td>\n",
       "    </tr>\n",
       "    <tr>\n",
       "      <th>3</th>\n",
       "      <td>min</td>\n",
       "      <td>0.0</td>\n",
       "      <td>0.0</td>\n",
       "      <td>0.0</td>\n",
       "      <td>0.0</td>\n",
       "      <td>0.0</td>\n",
       "      <td>0.0</td>\n",
       "    </tr>\n",
       "    <tr>\n",
       "      <th>4</th>\n",
       "      <td>max</td>\n",
       "      <td>0.377</td>\n",
       "      <td>0.508968753125</td>\n",
       "      <td>2.303</td>\n",
       "      <td>0.4696022608472193</td>\n",
       "      <td>24.4100001</td>\n",
       "      <td>0.147</td>\n",
       "    </tr>\n",
       "  </tbody>\n",
       "</table>\n",
       "</div>"
      ],
      "text/plain": [
       "  summary        energy_median          energy_mean          energy_max   \n",
       "0   count              3079165              3079165             3079165  \\\n",
       "1    mean  0.11880588795988369  0.16319008790823802  0.6950190911996289   \n",
       "2  stddev  0.07454287476367244  0.09432452196334815  0.4651897588350241   \n",
       "3     min                  0.0                  0.0                 0.0   \n",
       "4     max                0.377       0.508968753125               2.303   \n",
       "\n",
       "            energy_std         energy_sum           energy_min  \n",
       "0              3079165            3079165              3079165  \n",
       "1  0.14029959826336136  7.825446524206482  0.04289147609823376  \n",
       "2  0.09785646281908876   4.52540514635374  0.03218939807855031  \n",
       "3                  0.0                0.0                  0.0  \n",
       "4   0.4696022608472193         24.4100001                0.147  "
      ]
     },
     "execution_count": 86,
     "metadata": {},
     "output_type": "execute_result"
    }
   ],
   "source": [
    "print('Data frame describe:')\n",
    "csv.describe().toPandas()"
   ]
  },
  {
   "cell_type": "markdown",
   "metadata": {
    "tags": []
   },
   "source": [
    "# **2. Обучение модели** <a class=\"anchor\" id=\"1\"></a>\n",
    "\n",
    "Подготовка данных, создание бинарного признака. Бинарный признак - среднее значение energy_sum.\n"
   ]
  },
  {
   "cell_type": "code",
   "execution_count": 22,
   "metadata": {
    "tags": []
   },
   "outputs": [
    {
     "data": {
      "text/plain": [
       "7.825446524206482"
      ]
     },
     "execution_count": 22,
     "metadata": {},
     "output_type": "execute_result"
    }
   ],
   "source": [
    "mean_sum = csv.select(mean('energy_sum')).collect()[0][0]\n",
    "mean_sum"
   ]
  },
  {
   "cell_type": "code",
   "execution_count": 23,
   "metadata": {
    "tags": []
   },
   "outputs": [
    {
     "name": "stdout",
     "output_type": "stream",
     "text": [
      "+-------------------+-------------------+-------------------+------------------+------------------+----------+----------+\n",
      "|      energy_median|        energy_mean|         energy_std|        energy_max|        energy_sum|energy_min|binary_sum|\n",
      "+-------------------+-------------------+-------------------+------------------+------------------+----------+----------+\n",
      "|             0.1415|0.29616666875000003| 0.2814713178628203|         1.1160001|14.216000100000002|     0.031|         1|\n",
      "|             0.1015|          0.1898125| 0.1884046862418033|             0.685|             9.111|     0.064|         1|\n",
      "|              0.114| 0.2189791666666666|0.20291927853038208|0.6759999999999999|10.510999999999996|     0.065|         1|\n",
      "|              0.191|0.32597916666666665| 0.2592049619947409|0.7879999999999999|15.646999999999998|     0.066|         1|\n",
      "|0.21800000000000005|             0.3575|0.28759657027517305|             1.077|             17.16|     0.066|         1|\n",
      "|             0.1305| 0.2350833333333333| 0.2220696491599295|             0.705|            11.284|     0.066|         1|\n",
      "|0.08900000000000001|0.22135416666666666|0.26723887549908265|             1.094|            10.625|     0.062|         1|\n",
      "|0.16049999999999998|           0.291125|0.24907604794434665|0.7490000000000001|13.973999999999998|     0.065|         1|\n",
      "|              0.107|0.16899999999999998|0.15068466931050878|             0.613|             7.943|     0.065|         1|\n",
      "|             0.2175|0.33918750000000003|0.26310119857478675|             0.866|16.281000000000002|     0.069|         1|\n",
      "+-------------------+-------------------+-------------------+------------------+------------------+----------+----------+\n",
      "only showing top 10 rows\n",
      "\n"
     ]
    }
   ],
   "source": [
    "data = csv.select(\"energy_median\", \"energy_mean\",\"energy_std\", \"energy_max\", \"energy_sum\", \"energy_min\"\n",
    "               , ((col(\"energy_sum\") > mean_sum).cast(\"Int\").alias(\"binary_sum\")))\n",
    "data.show(10)"
   ]
  },
  {
   "cell_type": "markdown",
   "metadata": {},
   "source": [
    "Разделение данных на выборку для обучения, и тестовую выборку в соотношении 70/30"
   ]
  },
  {
   "cell_type": "code",
   "execution_count": 24,
   "metadata": {
    "tags": []
   },
   "outputs": [
    {
     "name": "stdout",
     "output_type": "stream",
     "text": [
      "Training Rows: 2156142  Testing Rows: 923023\n"
     ]
    }
   ],
   "source": [
    "splits = data.randomSplit([0.7, 0.3])\n",
    "train = splits[0]\n",
    "test = splits[1]\n",
    "train_rows = train.count()\n",
    "test_rows = test.count()\n",
    "print(\"Training Rows:\", train_rows, \" Testing Rows:\", test_rows)"
   ]
  },
  {
   "cell_type": "markdown",
   "metadata": {
    "tags": []
   },
   "source": [
    "## Обучение.\n",
    "Задача регрессии - линейная регрессия, метод LinearRegression\n",
    "Задача классификации - случайный лес, метод RandomForestClassifier"
   ]
  },
  {
   "cell_type": "code",
   "execution_count": 72,
   "metadata": {
    "tags": []
   },
   "outputs": [],
   "source": [
    "# векторизация и нормализация данных\n",
    "numVect = VectorAssembler(inputCols = [\"energy_median\", \"energy_mean\",\"energy_std\", \"energy_max\", \"energy_min\"]\n",
    "                          , outputCol=\"numFeatures\")\n",
    "minMax = MinMaxScaler(inputCol = numVect.getOutputCol(), outputCol=\"features\")\n",
    "\n",
    "#значения гиперпараметров выбраны случайно\n",
    "lr = LinearRegression(labelCol=\"energy_sum\",featuresCol=\"features\",maxIter=1,regParam=0.5, elasticNetParam=0.5)\n",
    "bc = RandomForestClassifier(labelCol=\"binary_sum\",featuresCol=\"features\", numTrees=50,maxDepth=10)\n",
    "\n",
    "# подготовка пайплайна\n",
    "regressionPipeline = Pipeline(stages=[numVect, minMax, lr])\n",
    "classifierPipeline = Pipeline(stages=[numVect, minMax, bc])\n",
    "\n",
    "#обучение\n",
    "regressionModel = regressionPipeline.fit(train)\n",
    "classifierModel = classifierPipeline.fit(train)"
   ]
  },
  {
   "cell_type": "markdown",
   "metadata": {},
   "source": [
    "## Предсказания по задаче регрессии"
   ]
  },
  {
   "cell_type": "code",
   "execution_count": 73,
   "metadata": {
    "tags": []
   },
   "outputs": [
    {
     "name": "stdout",
     "output_type": "stream",
     "text": [
      "+---------+-----------------+----------+\n",
      "|features |prediction       |energy_sum|\n",
      "+---------+-----------------+----------+\n",
      "|(5,[],[])|6.323107510194627|0.0       |\n",
      "|(5,[],[])|6.323107510194627|0.0       |\n",
      "|(5,[],[])|6.323107510194627|0.0       |\n",
      "|(5,[],[])|6.323107510194627|0.0       |\n",
      "|(5,[],[])|6.323107510194627|0.0       |\n",
      "|(5,[],[])|6.323107510194627|0.0       |\n",
      "|(5,[],[])|6.323107510194627|0.0       |\n",
      "|(5,[],[])|6.323107510194627|0.0       |\n",
      "|(5,[],[])|6.323107510194627|0.0       |\n",
      "|(5,[],[])|6.323107510194627|0.0       |\n",
      "+---------+-----------------+----------+\n",
      "only showing top 10 rows\n",
      "\n"
     ]
    }
   ],
   "source": [
    "regressionPrediction = regressionModel.transform(test)\n",
    "regressionPredicted = regressionPrediction.select(\"features\", \"prediction\", \"energy_sum\")\n",
    "regressionPredicted.show(10, truncate=False)"
   ]
  },
  {
   "cell_type": "markdown",
   "metadata": {},
   "source": [
    "## Предсказания по задаче классификации"
   ]
  },
  {
   "cell_type": "code",
   "execution_count": 74,
   "metadata": {
    "tags": []
   },
   "outputs": [
    {
     "name": "stdout",
     "output_type": "stream",
     "text": [
      "+---------+----------+----------+\n",
      "|features |prediction|binary_sum|\n",
      "+---------+----------+----------+\n",
      "|(5,[],[])|0.0       |0         |\n",
      "|(5,[],[])|0.0       |0         |\n",
      "|(5,[],[])|0.0       |0         |\n",
      "|(5,[],[])|0.0       |0         |\n",
      "|(5,[],[])|0.0       |0         |\n",
      "|(5,[],[])|0.0       |0         |\n",
      "|(5,[],[])|0.0       |0         |\n",
      "|(5,[],[])|0.0       |0         |\n",
      "|(5,[],[])|0.0       |0         |\n",
      "|(5,[],[])|0.0       |0         |\n",
      "+---------+----------+----------+\n",
      "only showing top 10 rows\n",
      "\n"
     ]
    }
   ],
   "source": [
    "classifierPrediction = classifierModel.transform(test)\n",
    "classifierPredicted = classifierPrediction.select(\"features\", \"prediction\", \"binary_sum\")\n",
    "classifierPredicted.show(10, truncate=False)"
   ]
  },
  {
   "cell_type": "markdown",
   "metadata": {
    "tags": []
   },
   "source": [
    "## Проверка результатов классификации"
   ]
  },
  {
   "cell_type": "code",
   "execution_count": 67,
   "metadata": {
    "tags": []
   },
   "outputs": [
    {
     "name": "stdout",
     "output_type": "stream",
     "text": [
      "+---------+------------------+\n",
      "|   metric|             value|\n",
      "+---------+------------------+\n",
      "|       TP|          398996.0|\n",
      "|       FP|            1999.0|\n",
      "|       TN|          522028.0|\n",
      "|       FN|               0.0|\n",
      "|Precision|0.9950149004351675|\n",
      "|   Recall|               1.0|\n",
      "|       F1|0.9975012218887461|\n",
      "+---------+------------------+\n",
      "\n"
     ]
    }
   ],
   "source": [
    "tp = float(classifierPredicted.filter(\"prediction == 1.0 AND binary_sum == 1\").count())\n",
    "fp = float(classifierPredicted.filter(\"prediction == 1.0 AND binary_sum == 0\").count())\n",
    "tn = float(classifierPredicted.filter(\"prediction == 0.0 AND binary_sum == 0\").count())\n",
    "fn = float(classifierPredicted.filter(\"prediction == 0.0 AND binary_sum == 1\").count())\n",
    "pr = tp / (tp + fp)\n",
    "re = tp / (tp + fn)\n",
    "metrics = spark.createDataFrame([\n",
    " (\"TP\", tp),\n",
    " (\"FP\", fp),\n",
    " (\"TN\", tn),\n",
    " (\"FN\", fn),\n",
    " (\"Precision\", pr),\n",
    " (\"Recall\", re),\n",
    " (\"F1\", 2*pr*re/(re+pr))],[\"metric\", \"value\"])\n",
    "metrics.show()"
   ]
  },
  {
   "cell_type": "code",
   "execution_count": 44,
   "metadata": {
    "tags": []
   },
   "outputs": [
    {
     "name": "stdout",
     "output_type": "stream",
     "text": [
      "AUR =  0.999613264978563\n"
     ]
    }
   ],
   "source": [
    "evaluator = BinaryClassificationEvaluator(labelCol=\"binary_sum\", rawPredictionCol=\"rawPrediction\", metricName=\"areaUnderROC\")\n",
    "aur = evaluator.evaluate(classifierPrediction)\n",
    "print (\"AUR = \", aur)"
   ]
  },
  {
   "cell_type": "markdown",
   "metadata": {},
   "source": [
    "## Проверка результатов регрессии\n",
    "Метрики:\n",
    "* A Cредняя абсолютная ошибка: меньше - лучше\n",
    "* A Корень из среднеквадратичной ошибки: меньше - лучше\n",
    "* A Коэффициент детерминации: больше - лучше"
   ]
  },
  {
   "cell_type": "code",
   "execution_count": 92,
   "metadata": {
    "tags": []
   },
   "outputs": [
    {
     "name": "stdout",
     "output_type": "stream",
     "text": [
      "MAE(Cредняя абсолютная ошибка) = 2.97397\n",
      "RMSE(Среднеквадратичная ошибка) = 3.70871\n",
      "R2(Коэффициент детерминации) = 0.327094\n"
     ]
    }
   ],
   "source": [
    "\n",
    "regressionEvaluatorMAE = RegressionEvaluator(labelCol=\"energy_sum\", predictionCol = \"prediction\", metricName=\"mae\")\n",
    "mae = regressionEvaluatorMAE.evaluate(regressionPrediction)\n",
    "print(\"MAE(Cредняя абсолютная ошибка) = %g\" % mae)\n",
    "\n",
    "regressionEvaluatorRMSE = RegressionEvaluator(labelCol=\"energy_sum\", predictionCol = \"prediction\", metricName=\"rmse\")\n",
    "rmse = regressionEvaluatorRMSE.evaluate(regressionPrediction)\n",
    "print(\"RMSE(Среднеквадратичная ошибка) = %g\" % rmse)\n",
    "\n",
    "regressionEvaluatorR2 = RegressionEvaluator(labelCol=\"energy_sum\", predictionCol = \"prediction\", metricName=\"r2\")\n",
    "r2 = regressionEvaluatorR2.evaluate(regressionPrediction)\n",
    "print(\"R2(Коэффициент детерминации) = %g\" % r2)"
   ]
  },
  {
   "cell_type": "markdown",
   "metadata": {
    "tags": []
   },
   "source": [
    "## Кросс-валидация\n",
    "Подбор гиперпараметров и обучение новой модели"
   ]
  },
  {
   "cell_type": "code",
   "execution_count": 76,
   "metadata": {
    "tags": []
   },
   "outputs": [],
   "source": [
    "paramGrid = ParamGridBuilder()\n",
    "    .addGrid(lr.maxIter, [2, 3, 4, 6])\n",
    "    .addGrid(lr.regParam, [0.0, 0.2, 0.4, 0.6, 1])\n",
    "    .addGrid(lr.elasticNetParam, [0.0, 0.2, 0.5, 0.8, 1])\n",
    "    .build()\n",
    "cv = CrossValidator(estimator=regressionPipeline, evaluator=regressionEvaluatorMAE, estimatorParamMaps=paramGrid, \n",
    "                    numFolds=2)\n",
    "\n",
    "newRegressionModel = cv.fit(train)"
   ]
  },
  {
   "cell_type": "code",
   "execution_count": 91,
   "metadata": {
    "tags": []
   },
   "outputs": [
    {
     "name": "stdout",
     "output_type": "stream",
     "text": [
      "Модель линейной регрессии с параметрами MaxIter = 3, RegParam = 0.0, ElasticNet = 0.2\n",
      "MAE(Cредняя абсолютная ошибка) = 0.0157025\n",
      "RMSE(Среднеквадратичная ошибка) = 0.183588\n",
      "R2(Коэффициент детерминации) = 0.998351\n"
     ]
    }
   ],
   "source": [
    "regressionNewPrediction = newRegressionModel.transform(test)\n",
    "\n",
    "regressionBestModel = newRegressionModel.bestModel.stages[2] \n",
    "print(\"Модель линейной регрессии с параметрами MaxIter = %s, RegParam = %s, ElasticNet = %s\" %\n",
    "     (regressionBestModel.getMaxIter(),\n",
    "      regressionBestModel.getRegParam(),\n",
    "      regressionBestModel.getElasticNetParam()))\n",
    "\n",
    "regressionEvaluatorMAE = RegressionEvaluator(labelCol=\"energy_sum\", predictionCol = \"prediction\", metricName=\"mae\")\n",
    "mae = regressionEvaluatorMAE.evaluate(regressionNewPrediction)\n",
    "print(\"MAE(Cредняя абсолютная ошибка) = %g\" % mae)\n",
    "\n",
    "regressionNewEvaluatorRMSE = RegressionEvaluator(labelCol=\"energy_sum\", predictionCol = \"prediction\", metricName=\"rmse\")\n",
    "rmse = regressionNewEvaluatorRMSE.evaluate(regressionNewPrediction)\n",
    "print(\"RMSE(Среднеквадратичная ошибка) = %g\" % rmse)\n",
    "\n",
    "regressionNewEvaluatorR2 = RegressionEvaluator(labelCol=\"energy_sum\", predictionCol = \"prediction\", metricName=\"r2\")\n",
    "r2 = regressionNewEvaluatorR2.evaluate(regressionNewPrediction)\n",
    "print(\"R2(Коэффициент детерминации) = %g\" % r2)"
   ]
  },
  {
   "cell_type": "markdown",
   "metadata": {
    "tags": []
   },
   "source": [
    "## Сохранение моделей"
   ]
  },
  {
   "cell_type": "code",
   "execution_count": 78,
   "metadata": {
    "tags": []
   },
   "outputs": [],
   "source": [
    "newRegressionModel.save(\"./newRegressionModel\")"
   ]
  },
  {
   "cell_type": "code",
   "execution_count": 79,
   "metadata": {
    "tags": []
   },
   "outputs": [],
   "source": [
    "classifierModel.save(\"./classifierModel\")"
   ]
  },
  {
   "cell_type": "code",
   "execution_count": null,
   "metadata": {},
   "outputs": [],
   "source": []
  }
 ],
 "metadata": {
  "kernelspec": {
   "display_name": "Python 3",
   "language": "python",
   "name": "python3"
  },
  "language_info": {
   "codemirror_mode": {
    "name": "ipython",
    "version": 3
   },
   "file_extension": ".py",
   "mimetype": "text/x-python",
   "name": "python",
   "nbconvert_exporter": "python",
   "pygments_lexer": "ipython3",
   "version": "3.8.5"
  }
 },
 "nbformat": 4,
 "nbformat_minor": 5
}
